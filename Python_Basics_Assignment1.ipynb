{
  "nbformat": 4,
  "nbformat_minor": 0,
  "metadata": {
    "colab": {
      "provenance": []
    },
    "kernelspec": {
      "name": "python3",
      "display_name": "Python 3"
    },
    "language_info": {
      "name": "python"
    }
  },
  "cells": [
    {
      "cell_type": "markdown",
      "source": [
        "#Python Basics Questions"
      ],
      "metadata": {
        "id": "6TCGl_0Kfoqx"
      }
    },
    {
      "cell_type": "markdown",
      "source": [
        "**Q. 1 What is Python, and why is it popular?**\n",
        "- Python is a high-leveled, interpreted programming language widely known for its simplicity & readability.\n",
        "- Reasons for its popularity-\n",
        "     1. Python is easy to learn as its syntax is simple.\n",
        "     2. It can be used for AI, Data science, web development etc.\n",
        "     3. It has a vast global community which provides libraries.\n",
        "     4. It runs on different operating systems.\n",
        "     5. It is a user friendly programming language.\n"
      ],
      "metadata": {
        "id": "K_B1GYhz9O_X"
      }
    },
    {
      "cell_type": "markdown",
      "source": [
        "Q.2 **What is an interpreter in Python?**\n",
        "- An interpreter in Python is a program that reads and executes python code line by line.\n",
        "- It translates Python source code into machine-readable instructions, without requiring a separate compilation step."
      ],
      "metadata": {
        "id": "1cuP1qbk7AcC"
      }
    },
    {
      "cell_type": "markdown",
      "source": [
        "Q.3 **What are the predefined keywords in Python?**\n",
        "- Python has reserved keywords that have a special meaning in the language. These keywords define Python's syntax, functionality. Keywords can not be used as variable names or identifiers.\n",
        "- List of keywords is given below:"
      ],
      "metadata": {
        "id": "PGVCfl2f8PRI"
      }
    },
    {
      "cell_type": "code",
      "source": [
        "import keyword\n",
        "print(keyword.kwlist)"
      ],
      "metadata": {
        "colab": {
          "base_uri": "https://localhost:8080/"
        },
        "id": "4hRYudCW80HN",
        "outputId": "aa380483-8214-44c3-f554-b00aec79f936"
      },
      "execution_count": null,
      "outputs": [
        {
          "output_type": "stream",
          "name": "stdout",
          "text": [
            "['False', 'None', 'True', 'and', 'as', 'assert', 'async', 'await', 'break', 'class', 'continue', 'def', 'del', 'elif', 'else', 'except', 'finally', 'for', 'from', 'global', 'if', 'import', 'in', 'is', 'lambda', 'nonlocal', 'not', 'or', 'pass', 'raise', 'return', 'try', 'while', 'with', 'yield']\n"
          ]
        }
      ]
    },
    {
      "cell_type": "markdown",
      "source": [
        "Q.4 **Can keywords be used as variable names?**\n",
        "- No, Python has a list of keywords. Each keyword has a speciful rule/function. Using keywords as variable name will show error in the code."
      ],
      "metadata": {
        "id": "B6PKGDQU97av"
      }
    },
    {
      "cell_type": "markdown",
      "source": [
        "Q.5 **What is mutability in Python?**\n",
        "- Mutability in python refers to the objects which can be changed/modified after being created.\n",
        "- Example: Lists, Dictionaries, Sets."
      ],
      "metadata": {
        "id": "EYGaaTox-wHf"
      }
    },
    {
      "cell_type": "markdown",
      "source": [
        "Q.6 **Why are list mutable, tuples are immutable?**\n",
        "- In python, object are classified as mutable (can be modified after creation)\n",
        "and immutabl(can not be modified after creation.\n",
        "- In lists, elements can be added, removed or the complete modification is possible. So, list is mutable whereas in tuples, once it is created it cant be modified; so it is immutable."
      ],
      "metadata": {
        "id": "izFPfuey_ZeT"
      }
    },
    {
      "cell_type": "markdown",
      "source": [
        "Q.7 **What is the difference between \"==\" and \"is\" operators in python?**\n",
        "- In python, \"==\" is equality operator. It checks if two objects have the same value, regardless of memory location. \"Is\" is identity operator.\n",
        "- It checks if two variables refer to the same object in memory."
      ],
      "metadata": {
        "id": "TLZhqWA0BBbH"
      }
    },
    {
      "cell_type": "markdown",
      "source": [
        "Q.8 **What are the logical operators in Python?**\n",
        "- Logical operators in Python are used to combine conditional statements and evaluate expressions that result in 'True' or 'False'.\n"
      ],
      "metadata": {
        "id": "38gR8At1CpXo"
      }
    },
    {
      "cell_type": "markdown",
      "source": [
        "Q. 9 **What is type casting in Python?**\n",
        "- Types casting is the process of converting one data type to another.\n",
        "- Common type casting functions are int(), float(), str(), list() etc."
      ],
      "metadata": {
        "id": "gU3pual5DPau"
      }
    },
    {
      "cell_type": "markdown",
      "source": [
        "Q.10 **What is the difference between implicit and explicit type casting?**\n",
        "- In python, type casting is the process of converting one data type to another.\n",
        "-Implicit Type casting- In this case, python automatically converts one data type to another without losing any data. It happens between compatible data types (like integer and float).\n",
        "-Explicit Type Casting- In this case, manual conversion of one data type to another done by the programmer using built in functions like int(), str(), etc. It is generally done between incompatible data types. Data loss is possible."
      ],
      "metadata": {
        "id": "Ck_xbnIZEThr"
      }
    },
    {
      "cell_type": "markdown",
      "source": [
        "Q.11 **What is the purpose of conditional statements in Python?**\n",
        "- Conditional statements in python are used to control the flow of a program based on certain conditions.\n",
        "- There are different types of conditional statements in python:\n",
        "-if statement(executes the block of code if the condition is True),\n",
        "-else statement(executes a block of code when if condition is False),\n",
        "-elif statement(Executes a block of code when previous 'if' or 'elif' conditions are False)."
      ],
      "metadata": {
        "id": "aaTf7_TRGwXw"
      }
    },
    {
      "cell_type": "markdown",
      "source": [
        "Q.12 **How does the elif statement work?**\n",
        "- The elif statement in Python allows you to check multiple conditions after an 'if' condition. It provides more flexibility in decision-making.\n",
        "- First matching condition executes, others are skipped."
      ],
      "metadata": {
        "id": "Ls_IW9HxL_gB"
      }
    },
    {
      "cell_type": "markdown",
      "source": [
        "Q.13 **What is the difference between for and while loops?**\n",
        "- For loop- It is used to iterate over a sequence(e'g; list, tuple, string). The number of iterations is fixed. It is automatically terminates when the sequence is exhausted.\n",
        "- While loop- It is used to repeat a block of code as long as a given condition is True. The number of iterations is not fixed, it is dependant on condition.\n",
        "The modification of condition is essential as it can lead to an infinite loop."
      ],
      "metadata": {
        "id": "BUmepF0cNpQ6"
      }
    },
    {
      "cell_type": "markdown",
      "source": [
        "Q.14 **Describe a scenario where a while loop is more suitable than a for loop.**\n",
        "- For loop is best when the number of iterations is known whereas while loop is used when the number of iterations is not known.\n",
        "- While loop is more suitable than a for loop when an action should be in repeating mood untill the condition is satisfied.\n",
        "- Example- Creating a programm in which a user need to put a vaild email id. The program should keep asking for input until the user provides a valid email id. The attempt of providing a valid email id is infinite; therefore while loop is best to use in such condition."
      ],
      "metadata": {
        "id": "li4UlSKYPqu3"
      }
    },
    {
      "cell_type": "markdown",
      "source": [
        "#Practical Questions"
      ],
      "metadata": {
        "id": "Vnm4QmCkSSat"
      }
    },
    {
      "cell_type": "markdown",
      "source": [
        "Q.1 **Write a Python program to print \"Hello World!\"**"
      ],
      "metadata": {
        "id": "gvgMRksGf0gl"
      }
    },
    {
      "cell_type": "code",
      "source": [
        "a = \"Hello,World!\"\n",
        "print(a)"
      ],
      "metadata": {
        "colab": {
          "base_uri": "https://localhost:8080/"
        },
        "id": "m-7lXMq4f749",
        "outputId": "f4753756-3384-4cbd-acf0-cb72dc952a1c"
      },
      "execution_count": null,
      "outputs": [
        {
          "output_type": "stream",
          "name": "stdout",
          "text": [
            "Hello,World!\n"
          ]
        }
      ]
    },
    {
      "cell_type": "markdown",
      "source": [
        "**Q.2 Write a Python program that displays your name and age.**"
      ],
      "metadata": {
        "id": "i5nZJ2d9gA_C"
      }
    },
    {
      "cell_type": "code",
      "source": [
        "name = \"Pushpita\"\n",
        "age = 29\n",
        "print(\"Name:\", name)\n",
        "print(\"Age:\", age)"
      ],
      "metadata": {
        "colab": {
          "base_uri": "https://localhost:8080/"
        },
        "id": "owCSg-R5gKTa",
        "outputId": "c617da7c-7e89-46a9-b520-48abbc7c02ff"
      },
      "execution_count": null,
      "outputs": [
        {
          "output_type": "stream",
          "name": "stdout",
          "text": [
            "Name: Pushpita\n",
            "Age: 29\n"
          ]
        }
      ]
    },
    {
      "cell_type": "markdown",
      "source": [
        "**Q.3 Write code to print all the pre-defined keywords in Python using the keyboard library.**\n",
        "\n"
      ],
      "metadata": {
        "id": "kzciFJnZgOUM"
      }
    },
    {
      "cell_type": "code",
      "source": [
        "import keyword\n",
        "print(\"Python Keywords:\")\n",
        "print(keyword.kwlist)"
      ],
      "metadata": {
        "colab": {
          "base_uri": "https://localhost:8080/"
        },
        "id": "oJ_P526Sgaym",
        "outputId": "d5085f5a-bcf1-4313-c61c-acc7bdb05086"
      },
      "execution_count": null,
      "outputs": [
        {
          "output_type": "stream",
          "name": "stdout",
          "text": [
            "Python Keywords:\n",
            "['False', 'None', 'True', 'and', 'as', 'assert', 'async', 'await', 'break', 'class', 'continue', 'def', 'del', 'elif', 'else', 'except', 'finally', 'for', 'from', 'global', 'if', 'import', 'in', 'is', 'lambda', 'nonlocal', 'not', 'or', 'pass', 'raise', 'return', 'try', 'while', 'with', 'yield']\n"
          ]
        }
      ]
    },
    {
      "cell_type": "markdown",
      "source": [
        "**Q.4 Write a program that checks if a given word is a python keyword.**"
      ],
      "metadata": {
        "id": "ge2MUUiSgekx"
      }
    },
    {
      "cell_type": "code",
      "source": [
        "import keyword\n",
        "\n",
        "word = input(\"Enter a word: \")\n",
        "\n",
        "# Check if the word is a Python keyword\n",
        "if keyword.iskeyword(word):\n",
        "    print(f\"'{word}' is a Python keyword.\")\n",
        "else:\n",
        "    print(f\"'{word}' is NOT a Python keyword.\")"
      ],
      "metadata": {
        "colab": {
          "base_uri": "https://localhost:8080/"
        },
        "id": "GpWzc4zPgnT8",
        "outputId": "c020a902-a3e0-4e0c-a79c-abeda4d69b23"
      },
      "execution_count": null,
      "outputs": [
        {
          "output_type": "stream",
          "name": "stdout",
          "text": [
            "Enter a word: Beautiful\n",
            "'Beautiful' is NOT a Python keyword.\n"
          ]
        }
      ]
    },
    {
      "cell_type": "markdown",
      "source": [
        "**Q.5 Create a list and tuple in Python, and demonstrate how attempting to change an element works for each.**"
      ],
      "metadata": {
        "id": "MTt6uZSLgv8A"
      }
    },
    {
      "cell_type": "code",
      "source": [
        "# Creating a list and modifying it (List is mutable)\n",
        "my_list = [1,2,3,4,5]\n",
        "print(\"Original list:\", my_list)\n",
        "if isinstance(my_list, list):\n",
        "    my_list[0] = 6\n",
        "    print(\"Modified list:\", my_list)\n",
        "else:\n",
        "    print(\"List modification is not allowed.\")\n",
        "\n",
        "\n",
        "\n",
        "# Creating a tuple and trying to modify it (Tuple is immutable)\n",
        "my_tuple = (1, 2, 3, 4, 5)\n",
        "print(\"Original tuple:\", my_tuple)\n",
        "if isinstance(my_tuple, tuple):\n",
        "    print(\"Tuple modification is not allowed because tuples are immutable.\")\n",
        "else:\n",
        "    my_tuple[2] = 10  # This line won't execute since the condition prevents it\n",
        "    print(\"Modified tuple:\", my_tuple)\n"
      ],
      "metadata": {
        "colab": {
          "base_uri": "https://localhost:8080/"
        },
        "id": "N9jduBMghidf",
        "outputId": "977d463c-2bfb-4539-9b4b-a7a88d8b4a5d"
      },
      "execution_count": null,
      "outputs": [
        {
          "output_type": "stream",
          "name": "stdout",
          "text": [
            "Original list: [1, 2, 3, 4, 5]\n",
            "Modified list: [6, 2, 3, 4, 5]\n",
            "Original tuple: (1, 2, 3, 4, 5)\n",
            "Tuple modification is not allowed because tuples are immutable.\n"
          ]
        }
      ]
    },
    {
      "cell_type": "markdown",
      "source": [
        "**Q.6 Write a function to demostrate the behaviour of mutable and immutable arguments.**"
      ],
      "metadata": {
        "id": "8u5PY304lN2h"
      }
    },
    {
      "cell_type": "code",
      "source": [
        "def modify_data(mutable_list, immutable_string):\n",
        "    # Modification of the list (mutable)\n",
        "    my_list.append(\"Ram\")\n",
        "    print(\"Inside function (list):\", my_list)\n",
        "\n",
        "    # Trying to modify the string (immutable)\n",
        "    immutable_string += \" Krishna \"\n",
        "    print(\"Inside function (string):\", immutable_string)\n",
        "\n",
        "# Creating a list (mutable) and a string (immutable)\n",
        "my_list = [\"Radha\", \"Krishna\"]\n",
        "my_string = \"Radhe\"\n",
        "\n",
        "print(\"Before function call:\")\n",
        "print(\"List:\", my_list)\n",
        "print(\"String:\", my_string)\n",
        "\n",
        "# Call the function\n",
        "modify_data(my_list, my_string)\n",
        "\n",
        "print(\"After function call:\")\n",
        "print(\"List:\", my_list)  # List is changed\n",
        "print(\"String:\", my_string)  # String remains unchanged"
      ],
      "metadata": {
        "colab": {
          "base_uri": "https://localhost:8080/"
        },
        "id": "1RcGUrOalYnn",
        "outputId": "e3c8f272-c239-41dc-db3d-aa6c103c5523"
      },
      "execution_count": null,
      "outputs": [
        {
          "output_type": "stream",
          "name": "stdout",
          "text": [
            "Before function call:\n",
            "List: ['Radha', 'Krishna']\n",
            "String: Radhe\n",
            "Inside function (list): ['Radha', 'Krishna', 'Ram']\n",
            "Inside function (string): Radhe Krishna \n",
            "After function call:\n",
            "List: ['Radha', 'Krishna', 'Ram']\n",
            "String: Radhe\n"
          ]
        }
      ]
    },
    {
      "cell_type": "markdown",
      "source": [
        "**Q.7 Write a function to demonstrate the behaviour of mutable and immutable arguments.**"
      ],
      "metadata": {
        "id": "bs8kIJU1luos"
      }
    },
    {
      "cell_type": "code",
      "source": [
        "def modify_data(mutable_list, immutable_num):\n",
        "    # List is mutable\n",
        "    mutable_list.append(44)\n",
        "    print(\"Inside function (list):\", mutable_list)\n",
        "\n",
        "    # Number is immutable\n",
        "    immutable_num *= 100\n",
        "    print(\"Inside function (number):\", immutable_num)\n",
        "\n",
        "a_list = [11, 22, 33]\n",
        "a_num = 100\n",
        "\n",
        "print(\"Before function call:\")\n",
        "print(\"List:\", a_list)\n",
        "print(\"Number:\", a_num)\n",
        "\n",
        "# Call the function\n",
        "modify_data(a_list, a_num)\n",
        "\n",
        "print(\"After function call:\")\n",
        "print(\"List:\", a_list)  # List is changed\n",
        "print(\"Number:\", a_num)  # Number is unchanged"
      ],
      "metadata": {
        "colab": {
          "base_uri": "https://localhost:8080/"
        },
        "id": "Wt8pakgyl4Wi",
        "outputId": "74c154b0-f689-4551-a4e3-605362b56674"
      },
      "execution_count": null,
      "outputs": [
        {
          "output_type": "stream",
          "name": "stdout",
          "text": [
            "Before function call:\n",
            "List: [11, 22, 33]\n",
            "Number: 100\n",
            "Inside function (list): [11, 22, 33, 44]\n",
            "Inside function (number): 10000\n",
            "After function call:\n",
            "List: [11, 22, 33, 44]\n",
            "Number: 100\n"
          ]
        }
      ]
    },
    {
      "cell_type": "markdown",
      "source": [
        "**Q.8 Write a program to demonstrate the use of logical operators.**"
      ],
      "metadata": {
        "id": "MYcyfbUIl9e9"
      }
    },
    {
      "cell_type": "code",
      "source": [
        "a = True\n",
        "b = False\n",
        "\n",
        "# Using 'and' operator (both conditions must be True)\n",
        "print(\"a and b:\", a and b)  # False\n",
        "\n",
        "# Using 'or' operator (at least one condition must be True)\n",
        "print(\"a or b:\", a or b)  # True\n",
        "\n",
        "# Using 'not' operator (negates the value)\n",
        "print(\"not a:\", not a)  # False\n",
        "print(\"not b:\", not b)  # True\n",
        "\n",
        "# Logical operators with numbers\n",
        "x = 2\n",
        "y = 3\n",
        "\n",
        "print(\"Logical operators with numbers:\")\n",
        "print(\"(x < 5) and (y < 15):\", (x < 5) and (y < 15))  # True (both conditions are true)\n",
        "print(\"(x < 5) and (y > 15):\", (x > 5) and (y < 15))  # False (one condition is false)\n",
        "print(\"(x < 5) or (y > 15):\", (x < 5) or (y > 15))  # True (one condition is true)\n",
        "print(\"not (x < 5):\", not (x < 5))  # False"
      ],
      "metadata": {
        "colab": {
          "base_uri": "https://localhost:8080/"
        },
        "id": "qhK0kf71mGwu",
        "outputId": "5e226ca1-4615-43c7-a50e-629e3caf25c4"
      },
      "execution_count": null,
      "outputs": [
        {
          "output_type": "stream",
          "name": "stdout",
          "text": [
            "a and b: False\n",
            "a or b: True\n",
            "not a: False\n",
            "not b: True\n",
            "Logical operators with numbers:\n",
            "(x < 5) and (y < 15): True\n",
            "(x < 5) and (y > 15): False\n",
            "(x < 5) or (y > 15): True\n",
            "not (x < 5): False\n"
          ]
        }
      ]
    },
    {
      "cell_type": "markdown",
      "source": [
        "**Q.9 Write a python program to convert user input from string to integer, float and boolean types.**"
      ],
      "metadata": {
        "id": "zGz2IQs61NXN"
      }
    },
    {
      "cell_type": "code",
      "source": [
        "user_input = input(\"Enter a value: \")\n",
        "\n",
        "# First Checking if the input is empty\n",
        "if user_input.strip() == \"\":\n",
        "    int_value = \"Invalid (Cannot convert to int)\"\n",
        "    float_value = \"Invalid (Cannot convert to float)\"\n",
        "    bool_value = False\n",
        "else:\n",
        "    #Converting to integer\n",
        "    if user_input.isdigit() or (user_input[0] == '-' and user_input[1:].isdigit()):\n",
        "        int_value = int(user_input)\n",
        "    else:\n",
        "        int_value = \"Invalid (Cannot convert to int)\"\n",
        "\n",
        "    #Converting to float\n",
        "    try:\n",
        "        float_value = float(user_input)\n",
        "    except ValueError:\n",
        "        float_value = \"Invalid (Cannot convert to float)\"\n",
        "\n",
        "    # Converting to boolean (any non-empty string is True)\n",
        "    bool_value = True\n",
        "\n",
        "# Display the results\n",
        "print(f\"String: {user_input}\")\n",
        "print(f\"Integer: {int_value}\")\n",
        "print(f\"Float: {float_value}\")\n",
        "print(f\"Boolean: {bool_value}\")\n"
      ],
      "metadata": {
        "colab": {
          "base_uri": "https://localhost:8080/"
        },
        "id": "aJlKrsnx190O",
        "outputId": "deabc1cf-a323-49f7-cf12-2b694bc8aae0"
      },
      "execution_count": 9,
      "outputs": [
        {
          "output_type": "stream",
          "name": "stdout",
          "text": [
            "Enter a value: False\n",
            "String: False\n",
            "Integer: Invalid (Cannot convert to int)\n",
            "Float: Invalid (Cannot convert to float)\n",
            "Boolean: True\n"
          ]
        }
      ]
    },
    {
      "cell_type": "markdown",
      "source": [
        "**Q.10 Write a code to demonstrate type casting with list elements.**"
      ],
      "metadata": {
        "id": "tZ0cdajZ1-pe"
      }
    },
    {
      "cell_type": "code",
      "source": [
        "def type_cast_list_elements(lst):\n",
        "    int_list = []\n",
        "    float_list = []\n",
        "    bool_list = []\n",
        "\n",
        "    for item in lst:\n",
        "        # Convert to Integer\n",
        "        if str(item).isdigit() or (str(item)[1:].isdigit() and str(item)[0] == \"-\"):\n",
        "            int_list.append(int(item))\n",
        "        else:\n",
        "            int_list.append(None)  # Append None if conversion is not possible\n",
        "\n",
        "        # Convert to Float\n",
        "        if str(item).replace('.', '', 1).isdigit() or (str(item)[1:].replace('.', '', 1).isdigit() and str(item)[0] == \"-\"):\n",
        "            float_list.append(float(item))\n",
        "        else:\n",
        "            float_list.append(None)\n",
        "\n",
        "        # Convert to Boolean\n",
        "        if str(item).lower() in [\"true\", \"false\"]:\n",
        "            bool_list.append(str(item).lower() == \"true\")\n",
        "        else:\n",
        "            bool_list.append(bool(item))  # Non-empty values -> True, empty -> False\n",
        "\n",
        "    print(f\"Original List: {lst}\")\n",
        "    print(f\"Converted to Integers: {int_list}\")\n",
        "    print(f\"Converted to Floats: {float_list}\")\n",
        "    print(f\"Converted to Booleans: {bool_list}\")\n",
        "\n",
        "    # Example\n",
        "my_list = [\"1\", \"3.4\", \"0\", \"True\", \"\", \"hello\", \"False\", \"-42\",]\n",
        "\n",
        "# Function call\n",
        "type_cast_list_elements(my_list)"
      ],
      "metadata": {
        "colab": {
          "base_uri": "https://localhost:8080/"
        },
        "id": "C3npTwAe2JAE",
        "outputId": "044e8bec-ab58-4abc-8d68-f046c99e924a"
      },
      "execution_count": 5,
      "outputs": [
        {
          "output_type": "stream",
          "name": "stdout",
          "text": [
            "Original List: ['1', '3.4', '0', 'True', '', 'hello', 'False', '-42']\n",
            "Converted to Integers: [1, None, 0, None, None, None, None, -42]\n",
            "Converted to Floats: [1.0, 3.4, 0.0, None, None, None, None, -42.0]\n",
            "Converted to Booleans: [True, True, True, True, False, True, False, True]\n"
          ]
        }
      ]
    },
    {
      "cell_type": "markdown",
      "source": [
        "**Q.11 Write a program that checks if a number is positive, negative or zero.**"
      ],
      "metadata": {
        "id": "88TEKhB12KbA"
      }
    },
    {
      "cell_type": "code",
      "source": [
        "# Function to check if the number is positive, negative, or zero\n",
        "def check_number(num):\n",
        "    if num > 0:\n",
        "        print(f\"The number {num} is Positive.\")\n",
        "    elif num < 0:\n",
        "        print(f\"The number {num} is Negative.\")\n",
        "    else:\n",
        "        print(f\"The number is Zero.\")\n",
        "\n",
        "number = float(input(\"Enter a number: \"))\n",
        "check_number(number)"
      ],
      "metadata": {
        "colab": {
          "base_uri": "https://localhost:8080/"
        },
        "id": "zyWIQi4j2ZR9",
        "outputId": "91abb5e7-0dcf-43e4-f87b-d108b79c19d4"
      },
      "execution_count": 6,
      "outputs": [
        {
          "output_type": "stream",
          "name": "stdout",
          "text": [
            "Enter a number: -33\n",
            "The number -33.0 is Negative.\n"
          ]
        }
      ]
    },
    {
      "cell_type": "markdown",
      "source": [
        "**Q.12 Write a for loop to print numbers from 1 to 10.**"
      ],
      "metadata": {
        "id": "89I50mJw2bMx"
      }
    },
    {
      "cell_type": "code",
      "source": [
        "for i in range(1, 11):\n",
        "    print(i)"
      ],
      "metadata": {
        "colab": {
          "base_uri": "https://localhost:8080/"
        },
        "id": "n2EVbxFn2kaE",
        "outputId": "c6c31125-d26e-4d7b-f30f-5a615739da47"
      },
      "execution_count": 1,
      "outputs": [
        {
          "output_type": "stream",
          "name": "stdout",
          "text": [
            "1\n",
            "2\n",
            "3\n",
            "4\n",
            "5\n",
            "6\n",
            "7\n",
            "8\n",
            "9\n",
            "10\n"
          ]
        }
      ]
    },
    {
      "cell_type": "markdown",
      "source": [
        "**Q.13 Write a python program to find the sum of all even numbers between 1 to 50.**"
      ],
      "metadata": {
        "id": "RFB6iEFH2k-d"
      }
    },
    {
      "cell_type": "code",
      "source": [
        "sum_of_even = 0\n",
        "\n",
        "# Loop through even numbers between 1 and 50\n",
        "for num in range(2, 51, 2):  # Starts from 2, goes up to 50, with step 2\n",
        "    sum_of_even += num\n",
        "\n",
        "print(\"Sum of even numbers between 1 and 50:\", sum_of_even)"
      ],
      "metadata": {
        "colab": {
          "base_uri": "https://localhost:8080/"
        },
        "id": "LvMbr6Gf2yzM",
        "outputId": "ba714592-4105-48ba-97cd-183558b59522"
      },
      "execution_count": 2,
      "outputs": [
        {
          "output_type": "stream",
          "name": "stdout",
          "text": [
            "Sum of even numbers between 1 and 50: 650\n"
          ]
        }
      ]
    },
    {
      "cell_type": "markdown",
      "source": [
        "**Q.14 Write a program to reverse a string using a while loop.**"
      ],
      "metadata": {
        "id": "dBnbyLut2078"
      }
    },
    {
      "cell_type": "code",
      "source": [
        "text = input(\"Enter a string: \")\n",
        "reversed_text = \"\"\n",
        "\n",
        "index = len(text) - 1\n",
        "\n",
        "# Use while loop to reverse the string\n",
        "while index >= 0:\n",
        "    reversed_text += text[index]\n",
        "    index -= 1  # Move to the previous character\n",
        "\n",
        "# Print the reversed string\n",
        "print(\"Reversed string:\", reversed_text)"
      ],
      "metadata": {
        "colab": {
          "base_uri": "https://localhost:8080/"
        },
        "id": "1xnGUUlp2-rn",
        "outputId": "a82c8bf6-6c10-4f1b-cd8a-a9d6f5dbd879"
      },
      "execution_count": 3,
      "outputs": [
        {
          "output_type": "stream",
          "name": "stdout",
          "text": [
            "Enter a string: Universe\n",
            "Reversed string: esrevinU\n"
          ]
        }
      ]
    },
    {
      "cell_type": "markdown",
      "source": [
        "**Q.15 Write a Python program to calculate the factorial of a number provided by the user using a while loop.**"
      ],
      "metadata": {
        "id": "BOp8dlsk2_Mr"
      }
    },
    {
      "cell_type": "code",
      "source": [
        "num = int(input(\"Enter a number: \"))\n",
        "\n",
        "factorial = 1\n",
        "i = num\n",
        "\n",
        "# Calculating factorial using while loop\n",
        "while i > 0:\n",
        "    factorial *= i\n",
        "    i -= 1  # Decrease counter\n",
        "\n",
        "print(f\"Factorial of {num} is: {factorial}\")"
      ],
      "metadata": {
        "colab": {
          "base_uri": "https://localhost:8080/"
        },
        "id": "gbTV5B4t3N4g",
        "outputId": "7222a0d2-c0d5-46c6-88a0-cae4778f4968"
      },
      "execution_count": 4,
      "outputs": [
        {
          "output_type": "stream",
          "name": "stdout",
          "text": [
            "Enter a number: 7\n",
            "Factorial of 7 is: 5040\n"
          ]
        }
      ]
    }
  ]
}